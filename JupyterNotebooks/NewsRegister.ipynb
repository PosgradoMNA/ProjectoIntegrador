{
 "cells": [
  {
   "cell_type": "markdown",
   "id": "21fb0424-887b-4d64-ae67-19aa050b09af",
   "metadata": {},
   "source": [
    "### Import libraries"
   ]
  },
  {
   "cell_type": "code",
   "execution_count": 1,
   "id": "1cbb512d-26ea-4b4b-8f56-365fa148bd22",
   "metadata": {},
   "outputs": [],
   "source": [
    "from selenium import webdriver\n",
    "from selenium.webdriver.chrome.service import Service\n",
    "from selenium.webdriver.common.by import By\n",
    "from bs4 import BeautifulSoup\n",
    "from newspaper import Article\n",
    "import datetime\n",
    "import datetime\n",
    "import pandas as pd\n",
    "import time"
   ]
  },
  {
   "cell_type": "markdown",
   "id": "5e6dfb82-5b0d-4f64-bd71-6915deb40b28",
   "metadata": {},
   "source": [
    "### Configure WebDriver"
   ]
  },
  {
   "cell_type": "code",
   "execution_count": 2,
   "id": "60e9b098-9f00-44c3-9a5a-1111242d88d5",
   "metadata": {},
   "outputs": [],
   "source": [
    "options = webdriver.ChromeOptions()\n",
    "options.add_argument('--headless')\n",
    "options.add_argument('--incognito')\n",
    "options.add_argument('--ignore-certificate-errors')\n",
    "options.add_argument('user-agent=Mozilla/5.0 (Windows NT 10.0; Win64; x64) AppleWebKit/537.36 (KHTML, like Gecko) Chrome/122.0.0.0 Safari/537.36')\n",
    "\n",
    "chrome_driver_path = r\"C:\\Users\\aefig\\Downloads\\chromedriver-win64\\chromedriver.exe\""
   ]
  },
  {
   "cell_type": "code",
   "execution_count": 3,
   "id": "23f42a08-a590-49be-9b9e-cbda9f13fdf5",
   "metadata": {},
   "outputs": [],
   "source": [
    "driver = webdriver.Chrome(service=Service(chrome_driver_path), options = options)"
   ]
  },
  {
   "cell_type": "markdown",
   "id": "94553316-0301-42d0-a37b-dcc0c2d54aa9",
   "metadata": {},
   "source": [
    "### Import S&P500 table"
   ]
  },
  {
   "cell_type": "code",
   "execution_count": 4,
   "id": "7b803672-a03e-428a-b0d2-30f56f2e4a70",
   "metadata": {},
   "outputs": [],
   "source": [
    "df_SP500 = pd.read_csv('S&P500_List.csv', encoding='utf8')"
   ]
  },
  {
   "cell_type": "code",
   "execution_count": 5,
   "id": "098a25b0-02a3-45fd-9b50-4c46b1eac532",
   "metadata": {},
   "outputs": [],
   "source": [
    "SP500_symbol = df_SP500['Symbol'].to_list()\n",
    "SP500_name = df_SP500['Security'].to_list()"
   ]
  },
  {
   "cell_type": "markdown",
   "id": "78e77cf8-5be5-4040-aa69-11e6130a9edf",
   "metadata": {},
   "source": [
    "### Create dictionary to save the news"
   ]
  },
  {
   "cell_type": "code",
   "execution_count": 7,
   "id": "62f943e8-0e6e-4102-aac7-993b023c3577",
   "metadata": {},
   "outputs": [
    {
     "name": "stdout",
     "output_type": "stream",
     "text": [
      "2021-01-05\n",
      "0%\n",
      "2021-01-06\n",
      "0%\n",
      "2021-01-07\n",
      "0%\n",
      "2021-01-08\n",
      "0%\n",
      "2021-01-09\n",
      "0%\n"
     ]
    }
   ],
   "source": [
    "date = datetime.date.fromisoformat('2021-01-05')\n",
    "\n",
    "while date < datetime.date.fromisoformat('2021-01-16'):\n",
    "    i_date = str(date)\n",
    "    e_date = str(date + datetime.timedelta(days=1))\n",
    "\n",
    "    print(i_date)\n",
    "    daily_register_news = {\n",
    "                            'Symbol': [],\n",
    "                            'Name': [],\n",
    "                            'Source_1': [],\n",
    "                            'Name_1': [],\n",
    "                            'Text_1': [],\n",
    "                            'Source_2': [],\n",
    "                            'Name_2': [],\n",
    "                            'Text_2': [],\n",
    "                            'Source_3': [],\n",
    "                            'Name_3': [],\n",
    "                            'Text_3': [],\n",
    "                            'Source_4': [],\n",
    "                            'Name_4': [],\n",
    "                            'Text_4': [],\n",
    "                            'Source_5': [],\n",
    "                            'Name_5': [],\n",
    "                            'Text_5': [],\n",
    "                        }\n",
    "\n",
    "    for i in range(len(SP500_symbol):\n",
    "        if i % 50 == 0:\n",
    "            print(f\"{int(i/5)}%\")\n",
    "    \n",
    "        stock = SP500_symbol[i]\n",
    "        name = SP500_name[i]\n",
    "\n",
    "        daily_register_news['Symbol'].append(stock)\n",
    "        daily_register_news['Name'].append(name)\n",
    "\n",
    "        url = \"https://news.google.com/search?q=\" + name + \"%20after%3A\" + i_date + \"%20before%3A\" + e_date + \"&hl=en-US&gl=US&ceid=US%3Aen\"\n",
    "\n",
    "        # time.sleep(0.01)\n",
    "        driver.get(url)\n",
    "        \n",
    "        soup = BeautifulSoup(driver.page_source, 'html.parser')\n",
    "        allData = soup.find_all(\"article\",{\"class\":\"IFHyqb DeXSAc\"})\n",
    "\n",
    "        for j in range(5):\n",
    "            try:\n",
    "                data = allData[j]\n",
    "                source = data.find('a').get('href')\n",
    "                source = f\"https://news.google.com{source[1:]}\"\n",
    "                name = data.find('a', {'class':'JtKRv'}).text\n",
    "                name = name.replace(\",\", \"\")\n",
    "                daily_register_news[f'Source_{j+1}'].append(source)\n",
    "                daily_register_news[f'Name_{j+1}'].append(name)\n",
    "                article = Article(source)\n",
    "                try:\n",
    "                    article.download()\n",
    "                    article.parse()\n",
    "                    text = article.text\n",
    "                    text = text.replace(\",\", \"\")\n",
    "                    daily_register_news[f'Text_{j+1}'].append(text)\n",
    "                except Exception as error:\n",
    "                    text = F\"ERROR: {error}\"\n",
    "                    daily_register_news[f'Text_{j+1}'].append(text)\n",
    "            except:\n",
    "                daily_register_news[f'Source_{j+1}'].append('')\n",
    "                daily_register_news[f'Name_{j+1}'].append('')\n",
    "                daily_register_news[f'Text_{j+1}'].append('')\n",
    "                \n",
    "\n",
    "    file = fr\"C:\\Users\\aefig\\OneDrive\\Escritorio\\Tec\\07_6to Trimestre\\02_ProyectoIntegrador\\NewsRegister\\{i_date}.csv\"\n",
    "\n",
    "    df_news = pd.DataFrame(daily_register_news)\n",
    "    df_news.to_csv(file, index=False)\n",
    "        \n",
    "    date += datetime.timedelta(days=1)"
   ]
  },
  {
   "cell_type": "code",
   "execution_count": 9,
   "id": "c029ff2d-b4db-4118-95b2-82a4ce17869a",
   "metadata": {},
   "outputs": [],
   "source": [
    "driver.close()"
   ]
  }
 ],
 "metadata": {
  "kernelspec": {
   "display_name": "Python 3 (ipykernel)",
   "language": "python",
   "name": "python3"
  },
  "language_info": {
   "codemirror_mode": {
    "name": "ipython",
    "version": 3
   },
   "file_extension": ".py",
   "mimetype": "text/x-python",
   "name": "python",
   "nbconvert_exporter": "python",
   "pygments_lexer": "ipython3",
   "version": "3.11.7"
  }
 },
 "nbformat": 4,
 "nbformat_minor": 5
}
