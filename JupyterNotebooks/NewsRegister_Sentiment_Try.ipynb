{
 "cells": [
  {
   "cell_type": "code",
   "execution_count": 5,
   "id": "c3e9bd02",
   "metadata": {},
   "outputs": [],
   "source": [
    "import numpy\n",
    "from transformers import pipeline\n",
    "import pandas as pd\n",
    "import os\n",
    "from datetime import datetime "
   ]
  },
  {
   "cell_type": "code",
   "execution_count": 15,
   "id": "a69ba91b",
   "metadata": {},
   "outputs": [],
   "source": [
    "model_id = \"distilbert-base-uncased-finetuned-sst-2-english\"\n",
    "# model_id = \"cardiffnlp/twitter-roberta-base-sentiment-latest\"\n",
    "\n",
    "sentiment_pipeline = pipeline(\"sentiment-analysis\", model=model_id)"
   ]
  },
  {
   "cell_type": "code",
   "execution_count": 7,
   "id": "a681c36c",
   "metadata": {},
   "outputs": [],
   "source": [
    "path = r'C:\\Users\\aefig\\OneDrive\\Escritorio\\Tec\\07_6to Trimestre\\02_ProyectoIntegrador\\NewsRegister'\n",
    "\n",
    "files = []\n",
    "\n",
    "for directory in os.listdir(path):\n",
    "    if directory[-4:] != '.csv' and directory in ['2021']: #ONLY 1 YEARS\n",
    "        for file in os.listdir(path + '\\\\' + directory):\n",
    "            files.append(path + '\\\\' + directory + '\\\\' + file)"
   ]
  },
  {
   "cell_type": "code",
   "execution_count": 24,
   "id": "f422b5b7-db6a-4646-8f6e-3c788d94f625",
   "metadata": {},
   "outputs": [],
   "source": [
    "# Function to obtain sentiment analysis\n",
    "def sentimentNews_text(row):\n",
    "    text1 = row[f'Text_1'] if row[f'Text_1'][:5] != 'ERROR' else ''\n",
    "    text2 = row[f'Text_2'] if row[f'Text_2'][:5] != 'ERROR' else ''\n",
    "    text3 = row[f'Text_3'] if row[f'Text_3'][:5] != 'ERROR' else ''\n",
    "    text4 = row[f'Text_4'] if row[f'Text_4'][:5] != 'ERROR' else ''\n",
    "    text5 = row[f'Text_5'] if row[f'Text_5'][:5] != 'ERROR' else ''\n",
    "    \n",
    "    text = []\n",
    "    \n",
    "    if text1 != '':\n",
    "        text.append(text1)\n",
    "    if text2 != '':\n",
    "        text.append(text2)\n",
    "    if text3 != '':\n",
    "        text.append(text3)\n",
    "    if text4 != '':\n",
    "        text.append(text4)\n",
    "    if text5 != '':\n",
    "        text.append(text5)\n",
    "    \n",
    "    AddedSentiment = 0\n",
    "    \n",
    "    try:\n",
    "        results = sentiment_pipeline(text)\n",
    "\n",
    "        for result in results:\n",
    "            if result['label'] == 'POSITIVE':\n",
    "                AddedSentiment += result['score']\n",
    "            elif result['label'] == 'NEGATIVE':\n",
    "                AddedSentiment -= result['score']\n",
    "    except:\n",
    "        AddedSentiment = 999\n",
    "            \n",
    "    return AddedSentiment"
   ]
  },
  {
   "cell_type": "code",
   "execution_count": 25,
   "id": "8406f8b4",
   "metadata": {},
   "outputs": [
    {
     "name": "stdout",
     "output_type": "stream",
     "text": [
      "\tC:\\Users\\aefig\\OneDrive\\Escritorio\\Tec\\07_6to Trimestre\\02_ProyectoIntegrador\\NewsRegister\\2021\\2021-01-13.csv\n"
     ]
    }
   ],
   "source": [
    "day = 0\n",
    "\n",
    "for file in files[12:13]:\n",
    "#     start_time = datetime.now()\n",
    "\n",
    "    day += 1\n",
    "    if day % 36 == 0:\n",
    "            print(f\"{int(day/3.6)}%\")\n",
    "            \n",
    "    print(f\"\\t{file}\")       \n",
    "\n",
    "    df = pd.read_csv(file)\n",
    "    df = df.fillna('')\n",
    "    for i in range(1, 6):\n",
    "        df[f\"Text_{i}\"] = df[f\"Text_{i}\"].str[:512]\n",
    "        df[f\"Name_{i}\"] = df[f\"Name_{i}\"].str[:512]\n",
    "\n",
    "    \n",
    "    df['AddedSentiment_text'] = df.apply(lambda x: sentimentNews_text(x), axis=1)\n",
    "    \n",
    "    df_count = df[['Symbol', 'AddedSentiment_text']]\n",
    "    df_count = df_count.set_index('Symbol')\n",
    "    df_count = df_count.T\n",
    "    df_count.insert(loc=0, column='Date', value=file[-14:][:10])\n",
    "    \n",
    "    path = r'C:\\Users\\aefig\\OneDrive\\Escritorio\\Tec\\07_6to Trimestre\\02_ProyectoIntegrador'\n",
    "    \n",
    "    if 'NewsRegisterSentiment.csv' in os.listdir(path):\n",
    "        header_flag = False\n",
    "    else:\n",
    "        header_flag = True\n",
    "\n",
    "    df_count.to_csv(r\"C:\\Users\\aefig\\OneDrive\\Escritorio\\Tec\\07_6to Trimestre\\02_ProyectoIntegrador\\NewsRegisterSentiment.csv\", mode='a', index=False, header=header_flag)\n",
    "    \n",
    "#     end_time = datetime.now() \n",
    "#     print(f\"Done in {(end_time - start_time).total_seconds()}\")"
   ]
  }
 ],
 "metadata": {
  "kernelspec": {
   "display_name": "Python 3",
   "language": "python",
   "name": "python3"
  },
  "language_info": {
   "codemirror_mode": {
    "name": "ipython",
    "version": 3
   },
   "file_extension": ".py",
   "mimetype": "text/x-python",
   "name": "python",
   "nbconvert_exporter": "python",
   "pygments_lexer": "ipython3",
   "version": "3.8.8"
  }
 },
 "nbformat": 4,
 "nbformat_minor": 5
}
